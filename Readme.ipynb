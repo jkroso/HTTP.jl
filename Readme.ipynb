{
 "cells": [
  {
   "cell_type": "markdown",
   "metadata": {},
   "source": [
    "# Request.jl\n",
    "\n",
    "An HTTP/HTTPS client for Julia\n",
    "\n",
    "#### Running the tests\n",
    "\n",
    "```sh\n",
    "pip install httpbin\n",
    "pip install gunicorn\n",
    "gunicorn httpbin:app\n",
    "git clone https://github.com/jkroso/Jest.jl.git\n",
    "make -C Jest.jl install\n",
    "jest test.jl\n",
    "```\n",
    "\n",
    "## API"
   ]
  },
  {
   "cell_type": "code",
   "execution_count": 1,
   "metadata": {
    "collapsed": true
   },
   "outputs": [],
   "source": [
    "@require \"github.com/jkroso/Request.jl\" GET;"
   ]
  },
  {
   "cell_type": "code",
   "execution_count": 2,
   "metadata": {},
   "outputs": [
    {
     "data": {
      "text/plain": [
       "HTTP/1.1 200 OK\n",
       "Connection: keep-alive\n",
       "Via: 1.1 vegur\n",
       "X-Powered-By: Flask\n",
       "Access-Control-Allow-Credentials: true\n",
       "X-Processed-Time: 0.00144004821777\n",
       "Date: Wed, 23 Aug 2017 21:50:11 GMT\n",
       "Content-Type: application/json\n",
       "Access-Control-Allow-Origin: *\n",
       "Server: meinheld/0.6.1\n",
       "\n",
       "235 bytes waiting\n"
      ]
     },
     "execution_count": 2,
     "metadata": {},
     "output_type": "execute_result"
    }
   ],
   "source": [
    "GET(\"httpbin.org/gzip\")"
   ]
  },
  {
   "cell_type": "markdown",
   "metadata": {},
   "source": [
    "`Response` is a subtype of `IO` so you can `read` it to see the body of the HTTP response"
   ]
  },
  {
   "cell_type": "code",
   "execution_count": 3,
   "metadata": {},
   "outputs": [
    {
     "data": {
      "text/plain": [
       "\"{\""
      ]
     },
     "execution_count": 3,
     "metadata": {},
     "output_type": "execute_result"
    }
   ],
   "source": [
    "Out[2] |> readline"
   ]
  },
  {
   "cell_type": "markdown",
   "metadata": {},
   "source": [
    "Redirects are handles automatically. By default `max_redirects` is set to `5`"
   ]
  },
  {
   "cell_type": "code",
   "execution_count": 4,
   "metadata": {},
   "outputs": [
    {
     "data": {
      "text/plain": [
       "HTTP/1.1 200 OK\n",
       "Connection: keep-alive\n",
       "X-Powered-By: Flask\n",
       "Content-Length: 246\n",
       "Via: 1.1 vegur\n",
       "Access-Control-Allow-Credentials: true\n",
       "X-Processed-Time: 0.000737905502319\n",
       "Date: Wed, 23 Aug 2017 21:50:18 GMT\n",
       "Content-Type: application/json\n",
       "Access-Control-Allow-Origin: *\n",
       "Server: meinheld/0.6.1\n",
       "\n",
       "246 bytes waiting\n"
      ]
     },
     "execution_count": 4,
     "metadata": {},
     "output_type": "execute_result"
    }
   ],
   "source": [
    "GET(\"httpbin.org/redirect/5\")"
   ]
  },
  {
   "cell_type": "markdown",
   "metadata": {},
   "source": [
    "A 4xx or 5xx response is considered and error and will throw the response instead of returning it."
   ]
  },
  {
   "cell_type": "code",
   "execution_count": 5,
   "metadata": {},
   "outputs": [
    {
     "ename": "LoadError",
     "evalue": "\u001b[91mHTTP/1.1 404 Not Found\nConnection: keep-alive\nX-Powered-By: Flask\nContent-Length: 0\nVia: 1.1 vegur\nAccess-Control-Allow-Credentials: true\nX-Processed-Time: 0.000386953353882\nDate: Wed, 23 Aug 2017 21:50:18 GMT\nContent-Type: text/html; charset=utf-8\nAccess-Control-Allow-Origin: *\nServer: meinheld/0.6.1\n\n0 bytes waiting\n\u001b[39m",
     "output_type": "error",
     "traceback": [
      "\u001b[91mHTTP/1.1 404 Not Found\nConnection: keep-alive\nX-Powered-By: Flask\nContent-Length: 0\nVia: 1.1 vegur\nAccess-Control-Allow-Credentials: true\nX-Processed-Time: 0.000386953353882\nDate: Wed, 23 Aug 2017 21:50:18 GMT\nContent-Type: text/html; charset=utf-8\nAccess-Control-Allow-Origin: *\nServer: meinheld/0.6.1\n\n0 bytes waiting\n\u001b[39m",
      "",
      "Stacktrace:",
      " [1] \u001b[1m#handle_request#7\u001b[22m\u001b[22m\u001b[1m(\u001b[22m\u001b[22m::Int64, ::Function, ::String, ::⭒URI.URI{:http}, ::Dict{Any,Any}, ::String\u001b[1m)\u001b[22m\u001b[22m at \u001b[1m/Users/jkroso/Projects/JuliaLang/Request.jl/main.jl:204\u001b[22m\u001b[22m",
      " [2] \u001b[1m#GET#9\u001b[22m\u001b[22m\u001b[1m(\u001b[22m\u001b[22m::Array{Any,1}, ::Function, ::String\u001b[1m)\u001b[22m\u001b[22m at \u001b[1m/Users/jkroso/Projects/JuliaLang/Request.jl/main.jl:223\u001b[22m\u001b[22m",
      " [3] \u001b[1mGET\u001b[22m\u001b[22m\u001b[1m(\u001b[22m\u001b[22m::String\u001b[1m)\u001b[22m\u001b[22m at \u001b[1m/Users/jkroso/Projects/JuliaLang/Request.jl/main.jl:223\u001b[22m\u001b[22m",
      " [4] \u001b[1minclude_string\u001b[22m\u001b[22m\u001b[1m(\u001b[22m\u001b[22m::String, ::String\u001b[1m)\u001b[22m\u001b[22m at \u001b[1m./loading.jl:515\u001b[22m\u001b[22m"
     ]
    }
   ],
   "source": [
    "GET(\"httpbin.org/status/404\")"
   ]
  },
  {
   "cell_type": "markdown",
   "metadata": {},
   "source": [
    "You can specify additional headers to send with the `meta` keyword argument"
   ]
  },
  {
   "cell_type": "code",
   "execution_count": 6,
   "metadata": {},
   "outputs": [
    {
     "data": {
      "text/plain": [
       "Dict{AbstractString,Any} with 6 entries:\n",
       "  \"Connection\"      => \"close\"\n",
       "  \"A\"               => \"1\"\n",
       "  \"Host\"            => \"httpbin.org\"\n",
       "  \"Accept\"          => \"*/*\"\n",
       "  \"Accept-Encoding\" => \"gzip\"\n",
       "  \"User-Agent\"      => \"Julia/0.6.0\""
      ]
     },
     "execution_count": 6,
     "metadata": {},
     "output_type": "execute_result"
    }
   ],
   "source": [
    "parse(GET(\"httpbin.org/headers\"; meta=Dict(:a=>1)))[\"headers\"]"
   ]
  }
 ],
 "metadata": {
  "kernelspec": {
   "display_name": "Julia 0.6.0",
   "language": "julia",
   "name": "julia-0.6"
  },
  "language_info": {
   "file_extension": ".jl",
   "mimetype": "application/julia",
   "name": "julia",
   "version": "0.6.0"
  }
 },
 "nbformat": 4,
 "nbformat_minor": 1
}
