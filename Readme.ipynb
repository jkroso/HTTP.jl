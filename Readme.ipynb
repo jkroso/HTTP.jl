{
 "cells": [
  {
   "cell_type": "markdown",
   "metadata": {},
   "source": [
    "# Request.jl\n",
    "\n",
    "An HTTP/HTTPS client for Julia\n",
    "\n",
    "#### Running the tests\n",
    "\n",
    "```sh\n",
    "pip install httpbin\n",
    "pip install gunicorn\n",
    "gunicorn httpbin:app\n",
    "git clone https://github.com/jkroso/Jest.jl.git\n",
    "make -C Jest.jl install\n",
    "jest test.jl\n",
    "```\n",
    "\n",
    "## API"
   ]
  },
  {
   "cell_type": "code",
   "execution_count": 1,
   "metadata": {
    "collapsed": false
   },
   "outputs": [],
   "source": [
    "@require \".\" GET;"
   ]
  },
  {
   "cell_type": "code",
   "execution_count": 2,
   "metadata": {
    "collapsed": false
   },
   "outputs": [
    {
     "data": {
      "text/plain": [
       "Response(200 OK, 6 headers, Inf bytes in body)"
      ]
     },
     "execution_count": 2,
     "metadata": {},
     "output_type": "execute_result"
    }
   ],
   "source": [
    "GET(\"httpbin.org/gzip\")"
   ]
  },
  {
   "cell_type": "markdown",
   "metadata": {},
   "source": [
    "`Response` is a subtype of `IO` so you can `read` it to see the body of the HTTP response"
   ]
  },
  {
   "cell_type": "code",
   "execution_count": 3,
   "metadata": {
    "collapsed": false
   },
   "outputs": [
    {
     "data": {
      "text/plain": [
       "\"{\\n\""
      ]
     },
     "execution_count": 3,
     "metadata": {},
     "output_type": "execute_result"
    }
   ],
   "source": [
    "Out[2] |> readline"
   ]
  },
  {
   "cell_type": "markdown",
   "metadata": {},
   "source": [
    "Redirects are handles automatically. By default `max_redirects` is set to `5`"
   ]
  },
  {
   "cell_type": "code",
   "execution_count": 4,
   "metadata": {
    "collapsed": false
   },
   "outputs": [
    {
     "data": {
      "text/plain": [
       "Response(200 OK, 7 headers, 218 bytes in body)"
      ]
     },
     "execution_count": 4,
     "metadata": {},
     "output_type": "execute_result"
    }
   ],
   "source": [
    "GET(\"httpbin.org/redirect/5\")"
   ]
  },
  {
   "cell_type": "markdown",
   "metadata": {},
   "source": [
    "A 4xx or 5xx response is considered and error and will throw the response instead of returning it."
   ]
  },
  {
   "cell_type": "code",
   "execution_count": 5,
   "metadata": {
    "collapsed": false
   },
   "outputs": [
    {
     "ename": "LoadError",
     "evalue": "LoadError: Response(404 Not Found, 7 headers, 0 bytes in body)\nwhile loading In[5], in expression starting on line 1",
     "output_type": "error",
     "traceback": [
      "LoadError: Response(404 Not Found, 7 headers, 0 bytes in body)\nwhile loading In[5], in expression starting on line 1",
      "",
      " in handle_request at /Users/jkroso/Projects/JuliaLang/request/main.jl:151",
      " in GET at /Users/jkroso/Projects/JuliaLang/request/main.jl:169",
      " in GET at /Users/jkroso/Projects/JuliaLang/request/main.jl:171"
     ]
    }
   ],
   "source": [
    "GET(\"httpbin.org/status/404\")"
   ]
  }
 ],
 "metadata": {
  "kernelspec": {
   "display_name": "Julia 0.4.2",
   "language": "julia",
   "name": "julia-0.4"
  },
  "language_info": {
   "file_extension": ".jl",
   "mimetype": "application/julia",
   "name": "julia",
   "version": "0.4.2"
  }
 },
 "nbformat": 4,
 "nbformat_minor": 0
}
