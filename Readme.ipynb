{
 "cells": [
  {
   "cell_type": "markdown",
   "metadata": {},
   "source": [
    "# Request.jl\n",
    "\n",
    "An HTTP/HTTPS client for Julia\n",
    "\n",
    "#### Running the tests\n",
    "\n",
    "```sh\n",
    "pip install httpbin\n",
    "pip install gunicorn\n",
    "gunicorn httpbin:app\n",
    "git clone https://github.com/jkroso/Jest.jl.git\n",
    "make -C Jest.jl install\n",
    "jest test.jl\n",
    "```\n",
    "\n",
    "## API"
   ]
  },
  {
   "cell_type": "code",
   "execution_count": 1,
   "metadata": {},
   "outputs": [],
   "source": [
    "@require \"github.com/jkroso/Request.jl\" GET;"
   ]
  },
  {
   "cell_type": "code",
   "execution_count": 2,
   "metadata": {},
   "outputs": [
    {
     "data": {
      "text/plain": [
       "Response(\"http://httpbin.org/gzip\" 200 OK, 9 headers, Inf bytes in body)"
      ]
     },
     "execution_count": 2,
     "metadata": {},
     "output_type": "execute_result"
    }
   ],
   "source": [
    "GET(\"httpbin.org/gzip\")"
   ]
  },
  {
   "cell_type": "markdown",
   "metadata": {},
   "source": [
    "`Response` is a subtype of `IO` so you can `read` it to see the body of the HTTP response"
   ]
  },
  {
   "cell_type": "code",
   "execution_count": 3,
   "metadata": {},
   "outputs": [
    {
     "data": {
      "text/plain": [
       "\"{\""
      ]
     },
     "execution_count": 3,
     "metadata": {},
     "output_type": "execute_result"
    }
   ],
   "source": [
    "Out[2] |> readline"
   ]
  },
  {
   "cell_type": "markdown",
   "metadata": {},
   "source": [
    "Redirects are handles automatically. By default `max_redirects` is set to `5`"
   ]
  },
  {
   "cell_type": "code",
   "execution_count": 4,
   "metadata": {},
   "outputs": [
    {
     "data": {
      "text/plain": [
       "Response(\"http://httpbin.org/get\" 200 OK, 10 headers, 246 bytes in body)"
      ]
     },
     "execution_count": 4,
     "metadata": {},
     "output_type": "execute_result"
    }
   ],
   "source": [
    "GET(\"httpbin.org/redirect/5\")"
   ]
  },
  {
   "cell_type": "markdown",
   "metadata": {},
   "source": [
    "A 4xx or 5xx response is considered and error and will throw the response instead of returning it."
   ]
  },
  {
   "cell_type": "code",
   "execution_count": 5,
   "metadata": {},
   "outputs": [
    {
     "ename": "LoadError",
     "evalue": "\u001b[91mResponse(\"http://httpbin.org/status/404\" 404 Not Found, 10 headers, 0 bytes in body)\u001b[39m",
     "output_type": "error",
     "traceback": [
      "\u001b[91mResponse(\"http://httpbin.org/status/404\" 404 Not Found, 10 headers, 0 bytes in body)\u001b[39m",
      "",
      "Stacktrace:",
      " [1] \u001b[1m#handle_request#3\u001b[22m\u001b[22m\u001b[1m(\u001b[22m\u001b[22m::Int64, ::Function, ::String, ::⭒URI.URI{:http}, ::Dict{Any,Any}, ::String\u001b[1m)\u001b[22m\u001b[22m at \u001b[1m/Users/jkroso/Projects/JuliaLang/Request.jl/main.jl:157\u001b[22m\u001b[22m",
      " [2] \u001b[1m#GET#5\u001b[22m\u001b[22m\u001b[1m(\u001b[22m\u001b[22m::Array{Any,1}, ::Function, ::String\u001b[1m)\u001b[22m\u001b[22m at \u001b[1m/Users/jkroso/Projects/JuliaLang/Request.jl/main.jl:177\u001b[22m\u001b[22m",
      " [3] \u001b[1mGET\u001b[22m\u001b[22m\u001b[1m(\u001b[22m\u001b[22m::String\u001b[1m)\u001b[22m\u001b[22m at \u001b[1m/Users/jkroso/Projects/JuliaLang/Request.jl/main.jl:177\u001b[22m\u001b[22m",
      " [4] \u001b[1minclude_string\u001b[22m\u001b[22m\u001b[1m(\u001b[22m\u001b[22m::String, ::String\u001b[1m)\u001b[22m\u001b[22m at \u001b[1m./loading.jl:515\u001b[22m\u001b[22m"
     ]
    }
   ],
   "source": [
    "GET(\"httpbin.org/status/404\")"
   ]
  },
  {
   "cell_type": "markdown",
   "metadata": {},
   "source": [
    "You can specify additional headers to send with the `meta` keyword argument"
   ]
  },
  {
   "cell_type": "code",
   "execution_count": 6,
   "metadata": {},
   "outputs": [
    {
     "data": {
      "text/plain": [
       "Dict{String,Any} with 6 entries:\n",
       "  \"Connection\"      => \"close\"\n",
       "  \"A\"               => \"1\"\n",
       "  \"Host\"            => \"httpbin.org\"\n",
       "  \"Accept\"          => \"*/*\"\n",
       "  \"Accept-Encoding\" => \"gzip\"\n",
       "  \"User-Agent\"      => \"Julia/0.6.0\""
      ]
     },
     "execution_count": 6,
     "metadata": {},
     "output_type": "execute_result"
    }
   ],
   "source": [
    "GET(\"httpbin.org/headers\"; meta=Dict(:a=>1))|>readstring|>JSON.parse|>x->x[\"headers\"]"
   ]
  }
 ],
 "metadata": {
  "kernelspec": {
   "display_name": "Julia 0.6.0",
   "language": "julia",
   "name": "julia-0.6"
  },
  "language_info": {
   "file_extension": ".jl",
   "mimetype": "application/julia",
   "name": "julia",
   "version": "0.6.0"
  }
 },
 "nbformat": 4,
 "nbformat_minor": 1
}
